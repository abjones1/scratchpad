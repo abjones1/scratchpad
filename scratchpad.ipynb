{
 "cells": [
  {
   "cell_type": "code",
   "execution_count": 1,
   "metadata": {},
   "outputs": [
    {
     "name": "stdout",
     "output_type": "stream",
     "text": [
      "[('espresso', 64), ('chai', 40), ('decaf', 0), ('drip', 120)]\n",
      "{'espresso': 64, 'chai': 40, 'decaf': 0, 'drip': 120}\n",
      "['espresso', 'chai', 'decaf', 'drip']\n",
      "dict_keys(['espresso', 'chai', 'decaf', 'drip'])\n",
      "64\n",
      "64\n",
      "{'chai': 40, 'decaf': 0, 'drip': 120}\n",
      "['chai', 'decaf', 'drip', 'espresso']\n",
      "dict_values([40, 0, 120, 64])\n",
      "Chai has 40mg of caffeine.\n",
      "Decaf has 0mg of caffeine.\n",
      "Drip has 120mg of caffeine.\n",
      "Espresso has 64mg of caffeine.\n"
     ]
    }
   ],
   "source": [
    "drinks = [\"espresso\", \"chai\", \"decaf\", \"drip\"]\n",
    "caffeine = [64, 40, 0, 120]\n",
    "zipped_drinks = list(zip(drinks, caffeine))\n",
    "print(zipped_drinks)\n",
    "drinks_dict = {drink:caff for drink, caff in zipped_drinks}\n",
    "print(drinks_dict)\n",
    "print(list(drinks_dict))\n",
    "print(drinks_dict.keys())\n",
    "print(drinks_dict.get(\"espresso\"))\n",
    "espresso = drinks_dict.pop(\"espresso\", \"NA\")\n",
    "print(espresso)\n",
    "print(drinks_dict)\n",
    "drinks_dict.update({\"espresso\": espresso})\n",
    "print(sorted(drinks_dict))\n",
    "print(drinks_dict.values())\n",
    "for drinks, caffeines in drinks_dict.items():\n",
    "    print(\"{drink} has {caffeine}mg of caffeine.\".format(drink=drinks.title(), caffeine=caffeines))\n"
   ]
  },
  {
   "cell_type": "code",
   "execution_count": 2,
   "metadata": {},
   "outputs": [],
   "source": [
    "# use pass as a placeholder\n",
    "def SomeFunction():\n",
    "    pass\n"
   ]
  },
  {
   "cell_type": "code",
   "execution_count": 5,
   "metadata": {},
   "outputs": [
    {
     "name": "stdout",
     "output_type": "stream",
     "text": [
      "{'Portland': {'Name': 'Portland', 'State': 'Oregon', 'Population': 500000}, 'Chicago': {'Name': 'Chicago', 'State': 'Illinois', 'Population': 5000000}}\n",
      "{'Name': 'Portland', 'State': 'Oregon', 'Population': 500000}\n"
     ]
    }
   ],
   "source": [
    "city_dict = {\"Portland\": {\"Name\": \"Portland\", \"State\": \"Oregon\", \"Population\": 500000}}\n",
    "city_dict.update({\"Chicago\": {\"Name\": \"Chicago\", \"State\": \"Illinois\", \"Population\": 5000000}})\n",
    "print(city_dict)\n",
    "print(city_dict[\"Portland\"])"
   ]
  },
  {
   "cell_type": "code",
   "execution_count": 13,
   "metadata": {},
   "outputs": [
    {
     "name": "stdout",
     "output_type": "stream",
     "text": [
      "[0 1 2 3 4]\n",
      "[[1 2 3 4]\n",
      " [5 6 7 8]]\n",
      "5    1\n",
      "6    2\n",
      "7    3\n",
      "8    4\n",
      "dtype: int64\n",
      "          LastName  Age\n",
      "FirstName              \n",
      "John           Doe   12\n",
      "Jane           Doe   14\n",
      "Oscar       Grouch   57\n"
     ]
    }
   ],
   "source": [
    "import numpy as np\n",
    "import pandas as pd\n",
    "\n",
    "some_ndarray = np.array([1,2,3,4,5])\n",
    "print(some_ndarray - 1)\n",
    "\n",
    "list1 = [1, 2, 3, 4]\n",
    "list2 = [5, 6, 7, 8]\n",
    "list3 = (list1, list2)\n",
    "array1 = np.array(list3)\n",
    "print(array1)\n",
    "\n",
    "series1 = pd.Series(list1, index = list2)\n",
    "print(series1)\n",
    "\n",
    "dataf = pd.DataFrame([\n",
    "    ['John', 'Doe', 12],\n",
    "    ['Jane', 'Doe', 14],\n",
    "    ['Oscar', 'Grouch', 57]\n",
    "], columns = ['FirstName', 'LastName', 'Age']).set_index('FirstName')\n",
    "print(dataf)\n"
   ]
  },
  {
   "cell_type": "code",
   "execution_count": 5,
   "metadata": {},
   "outputs": [
    {
     "name": "stdout",
     "output_type": "stream",
     "text": [
      "(5,)\n",
      "[1 2 3]\n",
      "[2.05833592e-312 2.33419537e-312]\n",
      "(3, 4)\n"
     ]
    }
   ],
   "source": [
    "import numpy as np\n",
    "import pandas as pd\n",
    "\n",
    "some_ndarray = np.array([1,2,3,4,5])\n",
    "print(some_ndarray.shape)\n",
    "print(some_ndarray[:-2])\n",
    "\n",
    "empty_array = np.empty(2)\n",
    "print(empty_array)\n",
    "\n",
    "a = np.array([[1 , 2, 3, 4], [5, 6, 7, 8], [9, 10, 11, 12]])\n",
    "print(np.shape(a))"
   ]
  },
  {
   "cell_type": "code",
   "execution_count": 2,
   "metadata": {},
   "outputs": [
    {
     "ename": "NameError",
     "evalue": "name 'np' is not defined",
     "output_type": "error",
     "traceback": [
      "\u001b[0;31m---------------------------------------------------------------------------\u001b[0m",
      "\u001b[0;31mNameError\u001b[0m                                 Traceback (most recent call last)",
      "\u001b[0;32m<ipython-input-2-1daeec8ceaf7>\u001b[0m in \u001b[0;36m<module>\u001b[0;34m\u001b[0m\n\u001b[0;32m----> 1\u001b[0;31m \u001b[0mempty_array\u001b[0m \u001b[0;34m=\u001b[0m \u001b[0mnp\u001b[0m\u001b[0;34m.\u001b[0m\u001b[0mempty\u001b[0m\u001b[0;34m(\u001b[0m\u001b[0;36m2\u001b[0m\u001b[0;34m,\u001b[0m\u001b[0;36m3\u001b[0m\u001b[0;34m)\u001b[0m\u001b[0;34m\u001b[0m\u001b[0;34m\u001b[0m\u001b[0m\n\u001b[0m",
      "\u001b[0;31mNameError\u001b[0m: name 'np' is not defined"
     ]
    }
   ],
   "source": [
    "\n",
    "\n"
   ]
  },
  {
   "cell_type": "code",
   "execution_count": null,
   "metadata": {},
   "outputs": [],
   "source": []
  }
 ],
 "metadata": {
  "kernelspec": {
   "display_name": "Python 3",
   "language": "python",
   "name": "python3"
  },
  "language_info": {
   "codemirror_mode": {
    "name": "ipython",
    "version": 3
   },
   "file_extension": ".py",
   "mimetype": "text/x-python",
   "name": "python",
   "nbconvert_exporter": "python",
   "pygments_lexer": "ipython3",
   "version": "3.8.5"
  }
 },
 "nbformat": 4,
 "nbformat_minor": 4
}
