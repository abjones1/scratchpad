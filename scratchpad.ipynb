{
 "cells": [
  {
   "cell_type": "code",
   "execution_count": 1,
   "metadata": {},
   "outputs": [
    {
     "name": "stdout",
     "output_type": "stream",
     "text": [
      "[('espresso', 64), ('chai', 40), ('decaf', 0), ('drip', 120)]\n",
      "{'espresso': 64, 'chai': 40, 'decaf': 0, 'drip': 120}\n",
      "['espresso', 'chai', 'decaf', 'drip']\n",
      "dict_keys(['espresso', 'chai', 'decaf', 'drip'])\n",
      "64\n",
      "64\n",
      "{'chai': 40, 'decaf': 0, 'drip': 120}\n",
      "['chai', 'decaf', 'drip', 'espresso']\n",
      "dict_values([40, 0, 120, 64])\n",
      "Chai has 40mg of caffeine.\n",
      "Decaf has 0mg of caffeine.\n",
      "Drip has 120mg of caffeine.\n",
      "Espresso has 64mg of caffeine.\n"
     ]
    }
   ],
   "source": [
    "drinks = [\"espresso\", \"chai\", \"decaf\", \"drip\"]\n",
    "caffeine = [64, 40, 0, 120]\n",
    "zipped_drinks = list(zip(drinks, caffeine))\n",
    "print(zipped_drinks)\n",
    "drinks_dict = {drink:caff for drink, caff in zipped_drinks}\n",
    "print(drinks_dict)\n",
    "print(list(drinks_dict))\n",
    "print(drinks_dict.keys())\n",
    "print(drinks_dict.get(\"espresso\"))\n",
    "espresso = drinks_dict.pop(\"espresso\", \"NA\")\n",
    "print(espresso)\n",
    "print(drinks_dict)\n",
    "drinks_dict.update({\"espresso\": espresso})\n",
    "print(sorted(drinks_dict))\n",
    "print(drinks_dict.values())\n",
    "for drinks, caffeines in drinks_dict.items():\n",
    "    print(\"{drink} has {caffeine}mg of caffeine.\".format(drink=drinks.title(), caffeine=caffeines))\n"
   ]
  },
  {
   "cell_type": "code",
   "execution_count": 2,
   "metadata": {},
   "outputs": [],
   "source": [
    "# use pass as a placeholder\n",
    "def SomeFunction():\n",
    "    pass\n"
   ]
  },
  {
   "cell_type": "code",
   "execution_count": 5,
   "metadata": {},
   "outputs": [
    {
     "name": "stdout",
     "output_type": "stream",
     "text": [
      "{'Portland': {'Name': 'Portland', 'State': 'Oregon', 'Population': 500000}, 'Chicago': {'Name': 'Chicago', 'State': 'Illinois', 'Population': 5000000}}\n",
      "{'Name': 'Portland', 'State': 'Oregon', 'Population': 500000}\n"
     ]
    }
   ],
   "source": [
    "city_dict = {\"Portland\": {\"Name\": \"Portland\", \"State\": \"Oregon\", \"Population\": 500000}}\n",
    "city_dict.update({\"Chicago\": {\"Name\": \"Chicago\", \"State\": \"Illinois\", \"Population\": 5000000}})\n",
    "print(city_dict)\n",
    "print(city_dict[\"Portland\"])"
   ]
  },
  {
   "cell_type": "code",
   "execution_count": 13,
   "metadata": {},
   "outputs": [
    {
     "name": "stdout",
     "output_type": "stream",
     "text": [
      "[0 1 2 3 4]\n",
      "[[1 2 3 4]\n",
      " [5 6 7 8]]\n",
      "5    1\n",
      "6    2\n",
      "7    3\n",
      "8    4\n",
      "dtype: int64\n",
      "          LastName  Age\n",
      "FirstName              \n",
      "John           Doe   12\n",
      "Jane           Doe   14\n",
      "Oscar       Grouch   57\n"
     ]
    }
   ],
   "source": [
    "import numpy as np\n",
    "import pandas as pd\n",
    "\n",
    "some_ndarray = np.array([1,2,3,4,5])\n",
    "print(some_ndarray - 1)\n",
    "\n",
    "list1 = [1, 2, 3, 4]\n",
    "list2 = [5, 6, 7, 8]\n",
    "list3 = (list1, list2)\n",
    "array1 = np.array(list3)\n",
    "print(array1)\n",
    "\n",
    "series1 = pd.Series(list1, index = list2)\n",
    "print(series1)\n",
    "\n",
    "dataf = pd.DataFrame([\n",
    "    ['John', 'Doe', 12],\n",
    "    ['Jane', 'Doe', 14],\n",
    "    ['Oscar', 'Grouch', 57]\n",
    "], columns = ['FirstName', 'LastName', 'Age']).set_index('FirstName')\n",
    "print(dataf)\n"
   ]
  },
  {
   "cell_type": "code",
   "execution_count": 5,
   "metadata": {},
   "outputs": [
    {
     "name": "stdout",
     "output_type": "stream",
     "text": [
      "(5,)\n",
      "[1 2 3]\n",
      "[2.05833592e-312 2.33419537e-312]\n",
      "(3, 4)\n"
     ]
    }
   ],
   "source": [
    "import numpy as np\n",
    "import pandas as pd\n",
    "\n",
    "some_ndarray = np.array([1,2,3,4,5])\n",
    "print(some_ndarray.shape)\n",
    "print(some_ndarray[:-2])\n",
    "\n",
    "empty_array = np.empty(2)\n",
    "print(empty_array)\n",
    "\n",
    "a = np.array([[1 , 2, 3, 4], [5, 6, 7, 8], [9, 10, 11, 12]])\n",
    "print(np.shape(a))"
   ]
  },
  {
   "cell_type": "code",
   "execution_count": 3,
   "metadata": {},
   "outputs": [
    {
     "name": "stdout",
     "output_type": "stream",
     "text": [
      "      a     b      c\n",
      "0     a  12.0   12.0\n",
      "1  None  12.3   33.0\n",
      "2     b  12.3  123.0\n",
      "3     a   1.0    1.0\n"
     ]
    }
   ],
   "source": [
    "import numpy as np\n",
    "import pandas as pd\n",
    "\n",
    "l = [[\"a\", 12, 12], [None, 12.3, 33.], [\"b\", 12.3, 123], [\"a\", 1, 1]]\n",
    "df = pd.DataFrame(l, columns=[\"a\", \"b\", \"c\"])\n",
    "\n",
    "print(df)"
   ]
  },
  {
   "cell_type": "code",
   "execution_count": null,
   "metadata": {},
   "outputs": [],
   "source": [
    "# Data cleaning stuff.  See also note in EN.\n",
    "\n",
    "import pandas as pd\n",
    "import numpy as np\n",
    "import matplotlib.pyplot as plt\n",
    "import codecademylib3_seaborn\n",
    "import glob as glob\n",
    "\n",
    "# The files imported here were on Codecademy\n",
    "file_names = glob.glob('states[0-9].csv')\n",
    "df_list = []\n",
    "for file in file_names:\n",
    "  df = pd.read_csv(file)\n",
    "  df_list.append(df)\n",
    "\n",
    "us_census = pd.concat(df_list)\n",
    "us_census = us_census.drop_duplicates()\n",
    "\n",
    "us_census['Income'] = us_census['Income'].replace('[\\$]', '', regex=True)\n",
    "\n",
    "us_census['male_female'] = us_census['GenderPop'].str.split('_')\n",
    "us_census['male_pop'] = us_census.male_female.str.get(0)\n",
    "us_census['female_pop'] = us_census.male_female.str.get(1)\n",
    "us_census['male_pop'] = us_census.male_pop.replace('M', '', regex=True)\n",
    "us_census['female_pop'] = us_census.female_pop.replace('F', '', regex=True)\n",
    "us_census['Income'] = pd.to_numeric(us_census['Income'])\n",
    "us_census['male_pop'] = pd.to_numeric(us_census['male_pop'])\n",
    "us_census['female_pop'] = pd.to_numeric(us_census['female_pop'])\n",
    "\n",
    "# plt.scatter(us_census.female_pop, us_census['Income'])\n",
    "# plt.show()\n",
    "\n",
    "print(us_census.columns)\n",
    "us_census = us_census.fillna(value={\"female_pop\":(us_census[\"TotalPop\"] - us_census[\"male_pop\"])})\n",
    "# print(us_census.female_pop)\n",
    "\n",
    "us_census['Hispanic'] = us_census['Hispanic'].replace('[\\%]', '', regex=True)\n",
    "us_census['Hispanic'] = pd.to_numeric(us_census['Hispanic'])\n",
    "print(us_census.dtypes)\n",
    "plt.hist(us_census[\"Hispanic\"])\n",
    "plt.show()"
   ]
  }
 ],
 "metadata": {
  "kernelspec": {
   "display_name": "Python 3",
   "language": "python",
   "name": "python3"
  },
  "language_info": {
   "codemirror_mode": {
    "name": "ipython",
    "version": 3
   },
   "file_extension": ".py",
   "mimetype": "text/x-python",
   "name": "python",
   "nbconvert_exporter": "python",
   "pygments_lexer": "ipython3",
   "version": "3.8.8"
  }
 },
 "nbformat": 4,
 "nbformat_minor": 4
}
