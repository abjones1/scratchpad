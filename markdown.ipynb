{
 "cells": [
  {
   "cell_type": "markdown",
   "id": "ff5b999f",
   "metadata": {},
   "source": [
    "# The largest Heading\n",
    "## Second largest Heading\n",
    "#####  Smallest Heading"
   ]
  },
  {
   "cell_type": "markdown",
   "id": "4ace3e0e",
   "metadata": {},
   "source": [
    "*Italic*\n",
    "\n",
    "**Bold**\n",
    "\n",
    "__what is this obvi Bold__"
   ]
  },
  {
   "cell_type": "markdown",
   "id": "00a784b8",
   "metadata": {},
   "source": [
    "Here is a quote\n",
    "> Quote 1\\\n",
    "> Quote 2\\\n",
    "> Quote 3"
   ]
  },
  {
   "cell_type": "markdown",
   "id": "654f0190",
   "metadata": {},
   "source": [
    "Here is a code block\n",
    "```\n",
    "10 print \"Alex\"\n",
    "20 goto 10\n",
    "```\n"
   ]
  },
  {
   "cell_type": "markdown",
   "id": "48a898b3",
   "metadata": {},
   "source": [
    "Here is a link to [CNN](https://www.cnn.com)"
   ]
  },
  {
   "cell_type": "markdown",
   "id": "7f994e31",
   "metadata": {},
   "source": [
    "Here is a bullet list\n",
    "- List item 1\n",
    "- List item 2\n",
    "- List item 3\n",
    "\n",
    "Here is a numbered list\n",
    "1. Number one\n",
    "2. Number two\n",
    "3. Number three"
   ]
  },
  {
   "cell_type": "markdown",
   "id": "06e3ee7f",
   "metadata": {},
   "source": [
    "Here's a nested list\n",
    "1. First item\n",
    "    - subbullet 1\n",
    "        - subbullet 2\n",
    "            - subbullet 3"
   ]
  },
  {
   "cell_type": "markdown",
   "id": "a9c932e2",
   "metadata": {},
   "source": [
    "Another nested list\n",
    "- Bullet 1\n",
    "  - bullet sub1\n",
    "    - bullet subsub1"
   ]
  },
  {
   "cell_type": "markdown",
   "id": "3b3f2890",
   "metadata": {},
   "source": [
    "My todo list\n",
    "- [x] Practice markdown\n",
    "- [ ] Finish git practice\n",
    "- [ ] Make dinner"
   ]
  },
  {
   "cell_type": "markdown",
   "id": "d1274816",
   "metadata": {},
   "source": [
    "Do emoji work here?  :+1:\n",
    "No, just on GitHub"
   ]
  },
  {
   "cell_type": "markdown",
   "id": "32ddbc45",
   "metadata": {},
   "source": [
    "How about footnotes[^1]?\n",
    "\n",
    "[^1]: Like this one.\\\n",
    "Apparently not here, just in GitHub\n"
   ]
  },
  {
   "cell_type": "code",
   "execution_count": null,
   "id": "78836da1",
   "metadata": {},
   "outputs": [],
   "source": []
  }
 ],
 "metadata": {
  "kernelspec": {
   "display_name": "Python 3 (ipykernel)",
   "language": "python",
   "name": "python3"
  },
  "language_info": {
   "codemirror_mode": {
    "name": "ipython",
    "version": 3
   },
   "file_extension": ".py",
   "mimetype": "text/x-python",
   "name": "python",
   "nbconvert_exporter": "python",
   "pygments_lexer": "ipython3",
   "version": "3.9.7"
  }
 },
 "nbformat": 4,
 "nbformat_minor": 5
}
